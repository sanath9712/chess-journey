{
 "cells": [
  {
   "cell_type": "code",
   "execution_count": 8,
   "id": "4691a2b8-914a-4fef-b0e4-dc0ee6701209",
   "metadata": {},
   "outputs": [
    {
     "name": "stdout",
     "output_type": "stream",
     "text": [
      "Data for 01/2023 saved to data/chess_games_2023_01.json\n",
      "Data for 02/2023 saved to data/chess_games_2023_02.json\n",
      "Data for 03/2023 saved to data/chess_games_2023_03.json\n",
      "Data for 04/2023 saved to data/chess_games_2023_04.json\n",
      "Data for 05/2023 saved to data/chess_games_2023_05.json\n",
      "Data for 06/2023 saved to data/chess_games_2023_06.json\n",
      "Data for 07/2023 saved to data/chess_games_2023_07.json\n",
      "Data for 08/2023 saved to data/chess_games_2023_08.json\n",
      "Data for 09/2023 saved to data/chess_games_2023_09.json\n",
      "Data for 10/2023 saved to data/chess_games_2023_10.json\n",
      "Data for 11/2023 saved to data/chess_games_2023_11.json\n"
     ]
    }
   ],
   "source": [
    "import requests\n",
    "import json\n",
    "import os\n",
    "\n",
    "def fetch_chess_games(username, year, month):\n",
    "    url = f\"https://api.chess.com/pub/player/{username}/games/{year}/{month}\"\n",
    "    headers = {\n",
    "        'User-Agent': 'Mozilla/5.0 (Windows NT 10.0; Win64; x64) AppleWebKit/537.36 (KHTML, like Gecko) Chrome/58.0.3029.110 Safari/537.3'\n",
    "    }\n",
    "    response = requests.get(url, headers=headers)\n",
    "    \n",
    "    if response.status_code == 200:\n",
    "        return response.json()\n",
    "    else:\n",
    "        print(f\"Failed to fetch data for {month}/{year}: {response.status_code}\")\n",
    "        return None\n",
    "\n",
    "def save_data_to_file(data, filename):\n",
    "    with open(filename, 'w') as file:\n",
    "        json.dump(data, file, indent=4)\n",
    "\n",
    "def fetch_games_for_year_and_save(username, year, data_directory):\n",
    "    if not os.path.exists(data_directory):\n",
    "        os.makedirs(data_directory)\n",
    "\n",
    "    for month in range(1, 12):  # Loop through months January (1) to November (11)\n",
    "        formatted_month = f\"{month:02d}\"  # Format month as two digits\n",
    "        games_data = fetch_chess_games(username, year, formatted_month)\n",
    "        if games_data:\n",
    "            filename = os.path.join(data_directory, f\"chess_games_{year}_{formatted_month}.json\")\n",
    "            save_data_to_file(games_data, filename)\n",
    "            print(f\"Data for {formatted_month}/{year} saved to {filename}\")\n",
    "\n",
    "# Replace 'your_username' with the desired username\n",
    "username = \"znatahn\"\n",
    "year = \"2023\"  # Example year\n",
    "data_directory = \"data\"  # Directory to store the data\n",
    "\n",
    "fetch_games_for_year_and_save(username, year, data_directory)\n"
   ]
  },
  {
   "cell_type": "code",
   "execution_count": null,
   "id": "a672f164-72ec-45b9-b281-d8837fe1ad71",
   "metadata": {},
   "outputs": [],
   "source": []
  }
 ],
 "metadata": {
  "kernelspec": {
   "display_name": "Python 3 (ipykernel)",
   "language": "python",
   "name": "python3"
  },
  "language_info": {
   "codemirror_mode": {
    "name": "ipython",
    "version": 3
   },
   "file_extension": ".py",
   "mimetype": "text/x-python",
   "name": "python",
   "nbconvert_exporter": "python",
   "pygments_lexer": "ipython3",
   "version": "3.10.9"
  }
 },
 "nbformat": 4,
 "nbformat_minor": 5
}
